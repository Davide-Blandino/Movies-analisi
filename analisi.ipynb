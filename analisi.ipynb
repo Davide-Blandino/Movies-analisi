{
 "cells": [
  {
   "cell_type": "code",
   "id": "initial_id",
   "metadata": {
    "collapsed": true
   },
   "source": [
    "import pandas as pd\n",
    "import seaborn as sns\n",
    "import geopandas as gpd\n",
    "import matplotlib.pyplot as plt\n",
    "import folium\n",
    "import plotly.express as px\n",
    "import numpy as np\n",
    "from librerie.fuzioni import *"
   ],
   "outputs": [],
   "execution_count": null
  },
  {
   "metadata": {},
   "cell_type": "markdown",
   "source": "Estraggo i file",
   "id": "c0149e6acc603d00"
  },
  {
   "metadata": {},
   "cell_type": "code",
   "source": [
    "movies_df = pd.read_csv(\"C:/Users/bland/PycharmProjects/progetto/data/movies.csv\")\n",
    "genres_df = pd.read_csv(\"C:/Users/bland/PycharmProjects/progetto/data/genres.csv\")\n",
    "countries_df = pd.read_csv(\"C:/Users/bland/PycharmProjects/progetto/data/countries.csv\")\n",
    "countries_gdf= gpd.read_file(\"C:/Users/bland/PycharmProjects/progetto/Country Data/ne_10m_admin_0_countries.shp\")"
   ],
   "id": "140cefd5a5edce56",
   "outputs": [],
   "execution_count": null
  },
  {
   "metadata": {},
   "cell_type": "markdown",
   "source": "## pulizia movies",
   "id": "e1ecb030067a869c"
  },
  {
   "metadata": {},
   "cell_type": "code",
   "source": "movies_df.shape",
   "id": "3b5235e95fdf819e",
   "outputs": [],
   "execution_count": null
  },
  {
   "metadata": {},
   "cell_type": "code",
   "source": "movies_df.head()",
   "id": "42bb10b9cd36233a",
   "outputs": [],
   "execution_count": null
  },
  {
   "metadata": {},
   "cell_type": "code",
   "source": [
    "movies_df = movies_df.set_index('id')\n",
    "movies_df.info()"
   ],
   "id": "856cec5e43e98773",
   "outputs": [],
   "execution_count": null
  },
  {
   "metadata": {},
   "cell_type": "code",
   "source": "movies_df.describe()",
   "id": "5fbafa657c85b795",
   "outputs": [],
   "execution_count": null
  },
  {
   "metadata": {},
   "cell_type": "code",
   "source": [
    "movies_df['name'] = movies_df['name'].astype('string')\n",
    "movies_df['tagline'] = movies_df['tagline'].astype('string')\n",
    "movies_df['description'] = movies_df['description'].astype('string')"
   ],
   "id": "7759a135a40fad4c",
   "outputs": [],
   "execution_count": null
  },
  {
   "metadata": {},
   "cell_type": "code",
   "source": "movies_df['year'] = pd.to_datetime(movies_df['date'], format='%Y')\n",
   "id": "6a6456ee8efdafaa",
   "outputs": [],
   "execution_count": null
  },
  {
   "metadata": {},
   "cell_type": "code",
   "source": "movies_df = movies_df.drop('date', axis = 1)",
   "id": "1118a8102696e6e8",
   "outputs": [],
   "execution_count": null
  },
  {
   "metadata": {},
   "cell_type": "code",
   "source": "movies_df.info()",
   "id": "ea6cc94a04b88611",
   "outputs": [],
   "execution_count": null
  },
  {
   "metadata": {},
   "cell_type": "code",
   "source": "movies_df.tail()",
   "id": "afdbb8ef8112bd54",
   "outputs": [],
   "execution_count": null
  },
  {
   "metadata": {},
   "cell_type": "code",
   "source": "movies_df.duplicated(subset=['name', 'year', 'minute', 'description', 'tagline', 'rating']).sum()",
   "id": "e4a7e8610cd1e6dd",
   "outputs": [],
   "execution_count": null
  },
  {
   "metadata": {},
   "cell_type": "code",
   "source": "movies_df = movies_df.drop_duplicates(subset=['name', 'year', 'minute', 'description', 'tagline', 'rating'])",
   "id": "49b4fd349a803934",
   "outputs": [],
   "execution_count": null
  },
  {
   "metadata": {},
   "cell_type": "markdown",
   "source": "## Pulizia generi",
   "id": "a82c8d7fdd965e0c"
  },
  {
   "metadata": {},
   "cell_type": "code",
   "source": "genres_df['genre'] = genres_df['genre'].astype('string')",
   "id": "c02bfe905dd1d135",
   "outputs": [],
   "execution_count": null
  },
  {
   "metadata": {},
   "cell_type": "code",
   "source": "genres_df = genres_df.drop_duplicates(subset=['id'])",
   "id": "7a669017624ae39c",
   "outputs": [],
   "execution_count": null
  },
  {
   "metadata": {},
   "cell_type": "markdown",
   "source": "## Pulizia paesi",
   "id": "61599c005fe29f7d"
  },
  {
   "metadata": {},
   "cell_type": "code",
   "source": "countries_df.shape",
   "id": "4c19509c0e3d2e91",
   "outputs": [],
   "execution_count": null
  },
  {
   "metadata": {},
   "cell_type": "code",
   "source": "countries_df.head()",
   "id": "b8c6c6473287a91",
   "outputs": [],
   "execution_count": null
  },
  {
   "metadata": {},
   "cell_type": "code",
   "source": "print(\"US?\", countries_df['country'].str.contains(\"Trinidad\", na=False).sum())",
   "id": "9c01ce1c93aa0f8b",
   "outputs": [],
   "execution_count": null
  },
  {
   "metadata": {},
   "cell_type": "code",
   "source": [
    "f = countries_df['country'].str.contains('Antigua', na=False)\n",
    "g = ~countries_df['country'].str.contains('', na=False)\n",
    "h = ~countries_df['country'].str.contains('USA', na=False)\n",
    "l = ~countries_df['country'].str.contains('USSR', na=False)\n",
    "a = f & g & h & l\n",
    "print(countries_df.loc[f, 'country'])"
   ],
   "id": "e18482706213d432",
   "outputs": [],
   "execution_count": null
  },
  {
   "metadata": {},
   "cell_type": "code",
   "source": "184182 - 174489",
   "id": "a9eb6ae7e748fc59",
   "outputs": [],
   "execution_count": null
  },
  {
   "metadata": {},
   "cell_type": "markdown",
   "source": "## grafici",
   "id": "4caa6bce1a28b7c6"
  },
  {
   "metadata": {},
   "cell_type": "code",
   "source": [
    "f = movies_df[movies_df['year'] == \"2031-01-01\"]\n",
    "f.head()"
   ],
   "id": "79f755fbc4170cf3",
   "outputs": [],
   "execution_count": null
  },
  {
   "metadata": {},
   "cell_type": "code",
   "source": [
    "plt.figure(figsize=(10, 6))\n",
    "sns.histplot(data=movies_df, x='year', bins=20, kde=False, color='skyblue')\n",
    "plt.title('Distribuzione negli anni')\n",
    "plt.xlabel('anni')\n",
    "plt.ylabel('Numero di film')\n",
    "plt.grid(True)\n",
    "plt.show()"
   ],
   "id": "5dc9e277ccf0b57d",
   "outputs": [],
   "execution_count": null
  },
  {
   "metadata": {},
   "cell_type": "code",
   "source": [
    "max_rating = movies_df['rating'].max()\n",
    "top_movies = movies_df[movies_df['rating'] == max_rating]\n",
    "print(top_movies)"
   ],
   "id": "76a4aaa92911ce2b",
   "outputs": [],
   "execution_count": null
  },
  {
   "metadata": {},
   "cell_type": "code",
   "source": [
    "plt.figure(figsize=(10, 6))\n",
    "sns.histplot(data=movies_df, x='rating', bins=20, kde=False, color='skyblue')\n",
    "plt.title('Distribuzione dei Rating')\n",
    "plt.xlabel('Rating')\n",
    "plt.ylabel('Numero di film')\n",
    "plt.grid(True)\n",
    "plt.show()\n"
   ],
   "id": "559dcf8b06c37ac3",
   "outputs": [],
   "execution_count": null
  },
  {
   "metadata": {},
   "cell_type": "code",
   "source": [
    "plt.figure(figsize=(8, 6))\n",
    "sns.violinplot(data=movies_df, x='rating', color='lightblue')\n",
    "plt.title('Distribuzione dei Rating (Violin Plot)')\n",
    "plt.xlabel('Rating')\n",
    "plt.grid(True)\n",
    "plt.show()\n"
   ],
   "id": "46e90692b34f06a2",
   "outputs": [],
   "execution_count": null
  },
  {
   "metadata": {},
   "cell_type": "code",
   "source": [
    "dup_key = movies_df[movies_df.duplicated(subset=['name', 'year'])].iloc[0][['name', 'year']]\n",
    "coppia = movies_df[(movies_df['name'] == dup_key['name']) & (movies_df['year'] == dup_key['year'])]\n",
    "\n",
    "print(coppia)"
   ],
   "id": "f6b5006dc152611a",
   "outputs": [],
   "execution_count": null
  },
  {
   "metadata": {},
   "cell_type": "code",
   "source": "genres_df.shape",
   "id": "264762d8765b0cfb",
   "outputs": [],
   "execution_count": null
  },
  {
   "metadata": {},
   "cell_type": "code",
   "source": "genres_df.info()\n",
   "id": "690cad7332e72164",
   "outputs": [],
   "execution_count": null
  },
  {
   "metadata": {},
   "cell_type": "code",
   "source": "genres_df.head(50)",
   "id": "e0e84cc4942523de",
   "outputs": [],
   "execution_count": null
  },
  {
   "metadata": {},
   "cell_type": "code",
   "source": [
    "plt.figure(figsize=(12, 8))\n",
    "ax = sns.countplot(x = 'genre', data = genres_df)\n",
    "plt.title('count of movies for genres')\n",
    "plt.xlabel('genres')\n",
    "plt.ylabel('Count')\n",
    "plt.xticks(rotation=90)\n",
    "counts_on_bars(ax)\n",
    "plt.show()"
   ],
   "id": "7af3e494e652c080",
   "outputs": [],
   "execution_count": null
  },
  {
   "metadata": {},
   "cell_type": "code",
   "source": "merged_df = pd.merge(movies_df, genres_df, left_on='id', right_on='id', how='right')",
   "id": "c1b1d8681f4bde34",
   "outputs": [],
   "execution_count": null
  },
  {
   "metadata": {},
   "cell_type": "code",
   "source": "genres_df.shape",
   "id": "d74e2d81a511fd9c",
   "outputs": [],
   "execution_count": null
  },
  {
   "metadata": {},
   "cell_type": "code",
   "source": "merged_df.head()",
   "id": "946c26c8a0c65e15",
   "outputs": [],
   "execution_count": null
  },
  {
   "metadata": {},
   "cell_type": "code",
   "source": [
    "plt.figure(figsize=(12,6))\n",
    "sns.violinplot(data=merged_df, x='genre', y='rating', inner='quartile', hue = 'genre', palette='pastel')\n",
    "plt.title('Distribuzione dei Rating per Genere')\n",
    "plt.xticks(rotation=45)\n",
    "plt.grid(True)\n",
    "plt.show()\n"
   ],
   "id": "491aea81e5e0922d",
   "outputs": [],
   "execution_count": null
  },
  {
   "metadata": {},
   "cell_type": "code",
   "source": [
    "plt.figure(figsize=(12,6))\n",
    "sns.violinplot(data=merged_df, x='genre', y='year', inner='quartile', hue = 'genre', palette='pastel')\n",
    "plt.title('Distribuzione dei Rating per Genere')\n",
    "plt.xticks(rotation=45)\n",
    "plt.grid(True)\n",
    "plt.show()"
   ],
   "id": "bb5e27fcd7161a5b",
   "outputs": [],
   "execution_count": null
  },
  {
   "metadata": {},
   "cell_type": "code",
   "source": "merged_df.head()",
   "id": "91df11f8e146d480",
   "outputs": [],
   "execution_count": null
  },
  {
   "metadata": {},
   "cell_type": "code",
   "source": [
    "countries_df\n",
    "\n",
    "#world_data_gdf.plot(figsize=(15,10), edgecolor='black', linewidth=1.5, column='Tot Cases/1M pop', legend=True)"
   ],
   "id": "728ed0ce1b7d67ce",
   "outputs": [],
   "execution_count": null
  },
  {
   "metadata": {},
   "cell_type": "code",
   "source": [
    "conteggi = countries_df['country'].value_counts().reset_index()\n",
    "conteggi.columns = ['country', 'count']\n",
    "conteggi = conteggi.set_index('country')"
   ],
   "id": "174b0f1b7db87d16",
   "outputs": [],
   "execution_count": null
  },
  {
   "metadata": {},
   "cell_type": "code",
   "source": [
    "fig = px.choropleth(conteggi,\n",
    "                    locations=conteggi.index,\n",
    "                    locationmode='country names',\n",
    "                    color='count',\n",
    "                    color_continuous_scale='Blues',\n",
    "                    title='Distribuzione dei Paesi in base al numero di occorrenze')\n",
    "\n",
    "fig.show()\n"
   ],
   "id": "a241dff866f6db67",
   "outputs": [],
   "execution_count": null
  },
  {
   "metadata": {},
   "cell_type": "code",
   "source": "conteggi.head()",
   "id": "193f5b3a1492ad1c",
   "outputs": [],
   "execution_count": null
  },
  {
   "metadata": {},
   "cell_type": "code",
   "source": "countries_gdf.head()",
   "id": "6d0c18e7e110fbdb",
   "outputs": [],
   "execution_count": null
  },
  {
   "metadata": {},
   "cell_type": "code",
   "source": [
    "riga = conteggi.loc['Serbia and Montenegro']\n",
    "conteggi = pd.concat([conteggi, riga.to_frame().T])\n",
    "matching = conteggi.index[conteggi.index == 'Serbia and Montenegro']\n",
    "if len(matching) > 0:\n",
    "    idx_list = list(conteggi.index)\n",
    "    first_match_pos = idx_list.index('Serbia and Montenegro')\n",
    "    idx_list[first_match_pos] = 'Serbia2'\n",
    "    conteggi.index = idx_list\n",
    "conteggi.index = conteggi.index.str.replace('Serbia and Montenegro', 'Montenegro2', regex=False)\n",
    "conteggi.loc['Serbia', 'count'] += conteggi.loc['Serbia2', 'count']\n",
    "conteggi = conteggi.drop('Serbia2')\n",
    "conteggi.loc['Montenegro', 'count'] += conteggi.loc['Montenegro2', 'count']\n",
    "conteggi = conteggi.drop('Montenegro2')"
   ],
   "id": "c025a7c1524be00e",
   "outputs": [],
   "execution_count": null
  },
  {
   "metadata": {},
   "cell_type": "code",
   "source": [
    "riga = conteggi.loc['Czechoslovakia']\n",
    "conteggi = pd.concat([conteggi, riga.to_frame().T])\n",
    "matching = conteggi.index[conteggi.index == 'Czechoslovakia']\n",
    "if len(matching) > 0:\n",
    "    idx_list = list(conteggi.index)\n",
    "    first_match_pos = idx_list.index('Czechoslovakia')\n",
    "    idx_list[first_match_pos] = 'Czechia2'\n",
    "    conteggi.index = idx_list\n",
    "conteggi.index = conteggi.index.str.replace('Czechoslovakia', 'Slovakia2', regex=False)\n",
    "conteggi.loc['Czechia', 'count'] += conteggi.loc['Czechia2', 'count']\n",
    "conteggi = conteggi.drop('Czechia2')\n",
    "conteggi.loc['Slovakia', 'count'] += conteggi.loc['Slovakia2', 'count']\n",
    "conteggi = conteggi.drop('Slovakia2')"
   ],
   "id": "6fec92821d03480c",
   "outputs": [],
   "execution_count": null
  },
  {
   "metadata": {},
   "cell_type": "code",
   "source": [
    "conteggi.index = conteggi.index.str.replace('Russian Federation', 'Russia', regex=False)\n",
    "conteggi.loc['Russia', 'count'] += conteggi.loc['USSR', 'count']\n",
    "conteggi = conteggi.drop('USSR')"
   ],
   "id": "42e05d38eb74426e",
   "outputs": [],
   "execution_count": null
  },
  {
   "metadata": {},
   "cell_type": "code",
   "source": [
    "conteggi.loc['Norway', 'count'] += conteggi.loc['Svalbard and Jan Mayen', 'count']\n",
    "conteggi = conteggi.drop('Svalbard and Jan Mayen')\n",
    "conteggi.loc['Norway', 'count'] += conteggi.loc['Bouvet Island', 'count']\n",
    "conteggi = conteggi.drop('Bouvet Island')"
   ],
   "id": "cfa4641d2be67bbd",
   "outputs": [],
   "execution_count": null
  },
  {
   "metadata": {},
   "cell_type": "code",
   "source": [
    "conteggi.loc['Australia', 'count'] += conteggi.loc['Christmas Island', 'count']\n",
    "conteggi = conteggi.drop('Christmas Island')\n",
    "conteggi.loc['Australia', 'count'] += conteggi.loc['Cocos (Keeling) Islands', 'count']\n",
    "conteggi = conteggi.drop('Cocos (Keeling) Islands')"
   ],
   "id": "42ffe468c4bfe676",
   "outputs": [],
   "execution_count": null
  },
  {
   "metadata": {},
   "cell_type": "code",
   "source": [
    "conteggi.loc['New Zealand', 'count'] += conteggi.loc['Tokelau', 'count']\n",
    "conteggi = conteggi.drop('Tokelau')"
   ],
   "id": "94ade91379507e17",
   "outputs": [],
   "execution_count": null
  },
  {
   "metadata": {},
   "cell_type": "code",
   "source": [
    "conteggi.loc['Netherlands', 'count'] += conteggi.loc['Netherlands Antilles', 'count']\n",
    "conteggi = conteggi.drop('Netherlands Antilles')"
   ],
   "id": "681e672904672d94",
   "outputs": [],
   "execution_count": null
  },
  {
   "metadata": {},
   "cell_type": "code",
   "source": [
    "conteggi.loc['France', 'count'] += conteggi.loc['French Guiana', 'count']\n",
    "conteggi = conteggi.drop('French Guiana')\n",
    "conteggi.loc['France', 'count'] += conteggi.loc['Réunion', 'count']\n",
    "conteggi = conteggi.drop('Réunion')\n",
    "conteggi.loc['France', 'count'] += conteggi.loc['Guadeloupe', 'count']\n",
    "conteggi = conteggi.drop('Guadeloupe')\n",
    "conteggi.loc['France', 'count'] += conteggi.loc['Martinique', 'count']\n",
    "conteggi = conteggi.drop('Martinique')\n",
    "conteggi.loc['France', 'count'] += conteggi.loc['Mayotte', 'count']\n",
    "conteggi = conteggi.drop('Mayotte')"
   ],
   "id": "c24d61714001ff24",
   "outputs": [],
   "execution_count": null
  },
  {
   "metadata": {},
   "cell_type": "code",
   "source": [
    "conteggi.loc['Germany', 'count'] += conteggi.loc['East Germany', 'count']\n",
    "conteggi = conteggi.drop('East Germany')"
   ],
   "id": "2f01ad9acfca7eb2",
   "outputs": [],
   "execution_count": null
  },
  {
   "metadata": {},
   "cell_type": "code",
   "source": [
    "a = ['Slovenia', 'Croatia', 'North Macedonia', 'Bosnia and Herzegovina', 'Serbia', 'Montenegro', 'Kosovo']\n",
    "a1 = ['Slovenia1', 'Croatia1', 'North Macedonia1', 'Bosnia and Herzegovina1', 'Serbia1', 'Montenegro1', 'Kosovo1']\n",
    "\n",
    "riga = conteggi.loc['Yugoslavia']\n",
    "for i in a:\n",
    "    conteggi = pd.concat([conteggi, riga.to_frame().T])\n",
    "for i in a1:\n",
    "    matching = conteggi.index[conteggi.index == 'Yugoslavia']\n",
    "    if len(matching) > 0:\n",
    "        idx_list = list(conteggi.index)\n",
    "        first_match_pos = idx_list.index('Yugoslavia')\n",
    "        idx_list[first_match_pos] = i\n",
    "        conteggi.index = idx_list\n",
    "conteggi = conteggi.drop('Yugoslavia')\n",
    "for i, j in zip(a, a1):\n",
    "    conteggi.loc[i, 'count'] += conteggi.loc[j, 'count']\n",
    "    conteggi = conteggi.drop(j)"
   ],
   "id": "5cea088575e668f2",
   "outputs": [],
   "execution_count": null
  },
  {
   "metadata": {},
   "cell_type": "code",
   "source": [
    "conteggi.index = conteggi.index.str.replace('USA', 'United States of America', regex=False)\n",
    "conteggi.index = conteggi.index.str.replace('UK', 'United Kingdom', regex=False)\n",
    "conteggi.index = conteggi.index.str.replace('Bolivarian Republic of Venezuela', 'Venezuela', regex=False)\n",
    "conteggi.index = conteggi.index.str.replace('Syrian Arab Republic', 'Syria', regex=False)\n",
    "conteggi.index = conteggi.index.str.replace('Eswatini', 'eSwatini', regex=False)\n",
    "conteggi.index = conteggi.index.str.replace('Democratic Republic of Congo', 'Democratic Republic of the Congo', regex=False)\n",
    "conteggi.index = conteggi.index.str.replace(r'^Congo', 'Republic of the Congo', regex=True)\n",
    "conteggi.index = conteggi.index.str.replace('Republic of Moldova', 'Moldova', regex=False)\n",
    "conteggi.index = conteggi.index.str.replace('Serbia', 'Republic of Serbia', regex=False)\n",
    "conteggi.index = conteggi.index.str.replace('Bahamas', 'The Bahamas', regex=False)\n",
    "conteggi.index = conteggi.index.str.replace('Timor-Leste', 'East Timor', regex=False)\n",
    "conteggi.index = conteggi.index.str.replace('State of Palestine', 'Palestine', regex=False)\n",
    "conteggi.index = conteggi.index.str.replace('Cape Verde', 'Cabo Verde', regex=False)\n",
    "conteggi.index = conteggi.index.str.replace('US Virgin Islands', 'United States Virgin Islands', regex=False)\n",
    "conteggi.index = conteggi.index.str.replace(\"Lao People's Democratic Republic\", 'Laos', regex=False)\n",
    "conteggi.index = conteggi.index.str.replace(\"Sao Tome and Principe\", 'São Tomé and Principe', regex=False)\n",
    "conteggi.index = conteggi.index.str.replace('Vatican City', 'Vatican', regex=False)\n",
    "conteggi.index = conteggi.index.str.replace('Hong Kong', 'Hong Kong S.A.R.', regex=False)\n",
    "conteggi.index = conteggi.index.str.replace('Brunei Darussalam', 'Brunei', regex=False)\n",
    "conteggi.index = conteggi.index.str.replace('Macao', 'Macao S.A.R', regex=False)\n",
    "conteggi.index = conteggi.index.str.replace('South Georgia and the South Sandwich Islands', 'South Georgia and the Islands', regex=False)\n",
    "conteggi.index = conteggi.index.str.replace('Pitcairn', 'Pitcairn Islands', regex=False)\n",
    "conteggi.index = conteggi.index.str.replace('Saint Helena, Ascension and Tristan da Cunha', 'Saint Helena', regex=False)\n",
    "conteggi.index = conteggi.index.str.replace('French Southern Territories', 'French Southern and Antarctic Lands', regex=False)"
   ],
   "id": "d3f5e51974dc4b1f",
   "outputs": [],
   "execution_count": null
  },
  {
   "metadata": {},
   "cell_type": "code",
   "source": [
    "conteggi.loc['Baykonur Cosmodrome', 'count'] = conteggi.loc['Kazakhstan', 'count']\n",
    "conteggi.loc['Brazilian Island', 'count'] = conteggi.loc['Brazil', 'count']\n",
    "conteggi.loc['Isle of Man', 'count'] = conteggi.loc['United Kingdom', 'count']\n",
    "conteggi.loc['Somaliland', 'count'] = conteggi.loc['Somalia', 'count']\n",
    "conteggi.loc['Cyprus No Mans Area', 'count'] = conteggi.loc['Cyprus', 'count']\n",
    "conteggi.loc['Northern Cyprus', 'count'] = conteggi.loc['Turkey', 'count']\n",
    "conteggi.loc['US Naval Base Guantanamo Bay', 'count'] = conteggi.loc['Cuba', 'count']\n",
    "conteggi.loc['Sint Maarten', 'count'] = conteggi.loc['Netherlands', 'count']\n",
    "conteggi.loc['Saint Martin', 'count'] = conteggi.loc['France', 'count']\n",
    "conteggi.loc['Saint Barthelemy', 'count'] = conteggi.loc['France', 'count']\n",
    "conteggi.loc['Clipperton Island', 'count'] = conteggi.loc['France', 'count']\n",
    "conteggi.loc['Dhekelia Sovereign Base Area', 'count'] = conteggi.loc['United Kingdom', 'count']\n",
    "conteggi.loc['Akrotiri Sovereign Base Area', 'count'] = conteggi.loc['United Kingdom', 'count']\n",
    "conteggi.loc['Indian Ocean Territories', 'count'] = conteggi.loc['Australia', 'count']\n",
    "conteggi.loc['Jersey', 'count'] = conteggi.loc['United Kingdom', 'count']\n",
    "conteggi.loc['Guernsey', 'count'] = conteggi.loc['United Kingdom', 'count']\n",
    "conteggi.loc['Coral Sea Islands', 'count'] = conteggi.loc['Australia', 'count']\n",
    "conteggi.loc['Ashmore and Cartier Islands', 'count'] = conteggi.loc['Australia', 'count']\n",
    "conteggi.loc['Aland', 'count'] = conteggi.loc['Finland', 'count']\n",
    "conteggi.loc['Curaçao', 'count'] = conteggi.loc['Netherlands', 'count']\n",
    "conteggi.loc['Bajo Nuevo Bank (Petrel Is.)', 'count'] = conteggi.loc['Colombia', 'count']\n",
    "conteggi.loc['Serranilla Bank', 'count'] = conteggi.loc['Colombia', 'count']\n",
    "conteggi.loc['Siachen Glacier', 'count'] = conteggi.loc['India', 'count']\n",
    "conteggi.loc['Southern Patagonian Ice Field', 'count'] = conteggi.loc['Chile', 'count']\n",
    "conteggi.loc['Scarborough Reef', 'count'] = conteggi.loc['Philippines', 'count']"
   ],
   "id": "7922b773f684af0e",
   "outputs": [],
   "execution_count": null
  },
  {
   "metadata": {},
   "cell_type": "code",
   "source": [
    "world_data_gdf = countries_gdf.merge(conteggi, left_on='ADMIN', right_on=conteggi.index, how='left')\n",
    "world_data_gdf.head()"
   ],
   "id": "e2d248fd48d95bf1",
   "outputs": [],
   "execution_count": null
  },
  {
   "metadata": {},
   "cell_type": "code",
   "source": [
    "Rome= [41.9028, 12.4964]\n",
    "world_data_gdf['count_log'] = np.log1p(world_data_gdf['count'])\n",
    "m = folium.Map(location=Rome, zoom_start=2)\n",
    "choropleth = folium.Choropleth(\n",
    "    geo_data=world_data_gdf,\n",
    "    data=world_data_gdf,\n",
    "    columns=['ADMIN', 'count_log'],\n",
    "    key_on='feature.properties.ADMIN',\n",
    "    fill_color=\"Reds\",\n",
    "    fill_opacity=0.7,\n",
    "    line_opacity=0.2,\n",
    "    legend_name='numero film'\n",
    ").add_to(m)\n",
    "m"
   ],
   "id": "7ac3614ceb04f6b6",
   "outputs": [],
   "execution_count": null
  },
  {
   "metadata": {},
   "cell_type": "code",
   "source": [
    "filtro = conteggi.index.str.contains('maa', case=False, na=False) #| conteggi.index.str.contains('croatia', case=False, na=False) | conteggi.index.str.contains('koso', case=False, na=False) | conteggi.index.str.contains('bosnia', case=False, na=False) | conteggi.index.str.contains('sloveni', case=False, na=False) | conteggi.index.str.contains('maced', case=False, na=False) | conteggi.index.str.contains('serb', case=False, na=False)| conteggi.index.str.contains('sla', case=False, na=False)\n",
    "conteggi.loc[filtro]\n"
   ],
   "id": "e5660b25a493bc85",
   "outputs": [],
   "execution_count": null
  },
  {
   "metadata": {},
   "cell_type": "code",
   "source": [
    "filtro = world_data_gdf['SOVEREIGNT'].str.contains('Southern Patagonian Ice Field', case=False, na=False)\n",
    "world_data_gdf.loc[filtro]"
   ],
   "id": "7f52aa40d4e86bee",
   "outputs": [],
   "execution_count": null
  },
  {
   "metadata": {},
   "cell_type": "code",
   "source": [
    "#Croatia,1276\n",
    "#Republic of Serbia,1369\n",
    "#Slovenia,1006\n",
    "#Bosnia and Herzegovina,533\n",
    "#North Macedonia,525\n",
    "#Kosovo,138\n",
    "#Montenegro,222\n",
    "#2411"
   ],
   "id": "bc1f46b92733c6f8",
   "outputs": [],
   "execution_count": null
  },
  {
   "metadata": {},
   "cell_type": "code",
   "source": [
    "filtro = ~conteggi.index.isin(world_data_gdf['ADMIN'])\n",
    "risultato = conteggi[filtro]\n",
    "print(risultato)\n"
   ],
   "id": "cd620cc5bfbb437e",
   "outputs": [],
   "execution_count": null
  },
  {
   "metadata": {},
   "cell_type": "code",
   "source": [
    "filtro = ~world_data_gdf['ADMIN'].isin(conteggi.index)\n",
    "risultato = world_data_gdf['ADMIN'][filtro]\n",
    "print(risultato)"
   ],
   "id": "bcecc55e8f4abeea",
   "outputs": [],
   "execution_count": null
  },
  {
   "metadata": {},
   "cell_type": "code",
   "source": [
    "filtro = world_data_gdf['count'].isna()\n",
    "risultato = world_data_gdf['NAME'][filtro]\n",
    "print(risultato)"
   ],
   "id": "c4790ed5803c25d5",
   "outputs": [],
   "execution_count": null
  },
  {
   "metadata": {},
   "cell_type": "code",
   "source": "conteggi.index.duplicated().sum()",
   "id": "d24666d475af7bb9",
   "outputs": [],
   "execution_count": null
  },
  {
   "metadata": {},
   "cell_type": "code",
   "source": [
    "print(world_data_gdf.loc[world_data_gdf['ADMIN'] == 'Brazilian Island', 'NOTE_BRK'].values,'Brazil')\n",
    "print(world_data_gdf.loc[world_data_gdf['ADMIN'] == 'Somaliland', 'NOTE_BRK'].values,'Somalia')\n",
    "print(world_data_gdf.loc[world_data_gdf['ADMIN'] == 'Cyprus No Mans Area', 'NOTE_BRK'].values,'Cyprus')\n",
    "print(world_data_gdf.loc[world_data_gdf['ADMIN'] == 'Northern Cyprus', 'NOTE_BRK'].values, 'Turkey')\n",
    "print(world_data_gdf.loc[world_data_gdf['ADMIN'] == 'Bajo Nuevo Bank (Petrel Is.)', 'NOTE_BRK'].values, 'Colombia')\n",
    "print(world_data_gdf.loc[world_data_gdf['ADMIN'] == 'Serranilla Bank', 'NOTE_BRK'].values, 'Colombia')\n",
    "print(world_data_gdf.loc[world_data_gdf['ADMIN'] == 'Siachen Glacier', 'NOTE_BRK'].values, 'India')\n",
    "print(world_data_gdf.loc[world_data_gdf['ADMIN'] == 'Southern Patagonian Ice Field', 'NOTE_BRK'].values, 'Chile')\n",
    "print(world_data_gdf.loc[world_data_gdf['ADMIN'] == 'Scarborough Reef', 'NOTE_BRK'].values, 'Philippines')\n",
    "\n",
    "print(world_data_gdf.loc[world_data_gdf['ADMIN'] == 'Spratly Is.', 'NOTE_BRK'].values, ' ')\n",
    "print(world_data_gdf.loc[world_data_gdf['ADMIN'] == 'Bir Tawil', 'NOTE_BRK'].values, ' ')"
   ],
   "id": "7af3315f11fa7801",
   "outputs": [],
   "execution_count": null
  },
  {
   "metadata": {},
   "cell_type": "code",
   "source": [
    "print(world_data_gdf.loc[world_data_gdf['ADMIN'] == 'Baykonur Cosmodrome', 'NOTE_BRK'].values, 'Kazakhstan')\n",
    "print(world_data_gdf.loc[world_data_gdf['ADMIN'] == 'Isle of Man', 'NOTE_BRK'].values,'United Kingdom')\n",
    "print(world_data_gdf.loc[world_data_gdf['ADMIN'] == 'US Naval Base Guantanamo Bay', 'NOTE_BRK'].values, 'Cuba')\n",
    "print(world_data_gdf.loc[world_data_gdf['ADMIN'] == 'Sint Maarten', 'NOTE_BRK'].values, 'Netherlands')\n",
    "print(world_data_gdf.loc[world_data_gdf['ADMIN'] == 'Saint Martin', 'NOTE_BRK'].values, 'France')\n",
    "print(world_data_gdf.loc[world_data_gdf['ADMIN'] == 'Clipperton Island', 'NOTE_BRK'].values, 'France')\n",
    "print(world_data_gdf.loc[world_data_gdf['ADMIN'] == 'Saint Barthelemy', 'NOTE_BRK'].values, 'France')\n",
    "print(world_data_gdf.loc[world_data_gdf['ADMIN'] == 'Dhekelia Sovereign Base Area', 'NOTE_BRK'].values, 'United Kingdom')\n",
    "print(world_data_gdf.loc[world_data_gdf['ADMIN'] == 'Akrotiri Sovereign Base Area', 'NOTE_BRK'].values, 'United Kingdom')\n",
    "print(world_data_gdf.loc[world_data_gdf['ADMIN'] == 'Indian Ocean Territories', 'NOTE_BRK'].values, 'Australia')\n",
    "print(world_data_gdf.loc[world_data_gdf['ADMIN'] == 'Jersey', 'NOTE_BRK'].values, 'United Kingdom')\n",
    "print(world_data_gdf.loc[world_data_gdf['ADMIN'] == 'Guernsey', 'NOTE_BRK'].values, 'United Kingdom')\n",
    "print(world_data_gdf.loc[world_data_gdf['ADMIN'] == 'Coral Sea Islands', 'NOTE_BRK'].values, 'Australia')\n",
    "print(world_data_gdf.loc[world_data_gdf['ADMIN'] == 'Ashmore and Cartier Islands', 'NOTE_BRK'].values, 'Australia')\n",
    "print(world_data_gdf.loc[world_data_gdf['ADMIN'] == 'Aland', 'NOTE_BRK'].values, 'Finland')\n",
    "print(world_data_gdf.loc[world_data_gdf['ADMIN'] == 'Curaçao', 'NOTE_BRK'].values, 'Netherlands')\n"
   ],
   "id": "35b87bc5a5c89dc0",
   "outputs": [],
   "execution_count": null
  },
  {
   "metadata": {},
   "cell_type": "code",
   "source": "conteggi.tail(40)",
   "id": "250beefd380a6c85",
   "outputs": [],
   "execution_count": null
  },
  {
   "metadata": {},
   "cell_type": "code",
   "source": "",
   "id": "fc8a0ade293669ad",
   "outputs": [],
   "execution_count": null
  }
 ],
 "metadata": {
  "kernelspec": {
   "display_name": "Python 3",
   "language": "python",
   "name": "python3"
  },
  "language_info": {
   "codemirror_mode": {
    "name": "ipython",
    "version": 2
   },
   "file_extension": ".py",
   "mimetype": "text/x-python",
   "name": "python",
   "nbconvert_exporter": "python",
   "pygments_lexer": "ipython2",
   "version": "2.7.6"
  }
 },
 "nbformat": 4,
 "nbformat_minor": 5
}
